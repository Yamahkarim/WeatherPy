{
 "cells": [
  {
   "cell_type": "markdown",
   "metadata": {},
   "source": [
    "# WeatherPy  by Yamah Karim\n",
    "----\n",
    "### Analysis\n",
    "* As expected, the temperature in this sample increased with proximity to the equator.  As expected, the temperature in this sample increased with proximity to the equator.   \n",
    "* Our analysis unveils that humidity around the globe peaks around the equator as well.  \n",
    "* In regard to cloudiness versus latitude, an obvious correlation does not exist. It is interesting to note, however, that there is a strong concentration of cities sitting at 0, 80, and 100% cloudiness. \n",
    "* An analysis of wind speed versus latitude does not show a correlation. However, the figure does reveal wind flurries are more common in the northern hemisphere. I believe this may have to do with the Earth’s tilt. \n"
   ]
  },
  {
   "cell_type": "code",
   "execution_count": 1,
   "metadata": {
    "scrolled": true
   },
   "outputs": [],
   "source": [
    "# Dependencies and Setup\n",
    "import matplotlib.pyplot as plt\n",
    "import pandas as pd\n",
    "import numpy as np\n",
    "import requests as req\n",
    "import time\n",
    "import seaborn as sns \n",
    "import urllib\n",
    "from pprint import pprint\n",
    "\n",
    "# Incorporated citipy to determine city based on latitude and longitude\n",
    "from citipy import citipy\n",
    "\n",
    "# Import API key\n",
    "from api_keys import api_key\n",
    "\n",
    "\n"
   ]
  },
  {
   "cell_type": "code",
   "execution_count": 2,
   "metadata": {},
   "outputs": [],
   "source": [
    "# Output File (CSV)\n",
    "output_data_file = \"output_data/cities.csv\""
   ]
  },
  {
   "cell_type": "markdown",
   "metadata": {},
   "source": [
    "## Generate Cities List"
   ]
  },
  {
   "cell_type": "code",
   "execution_count": 3,
   "metadata": {},
   "outputs": [],
   "source": [
    "# Range of latitudes and longitudes\n",
    "lat_range = (-90, 90)\n",
    "lng_range = (-180, 180)"
   ]
  },
  {
   "cell_type": "code",
   "execution_count": 4,
   "metadata": {},
   "outputs": [],
   "source": [
    "# List for holding lat_lngs and cities\n",
    "lat_lngs = []\n",
    "cities = []"
   ]
  },
  {
   "cell_type": "code",
   "execution_count": 5,
   "metadata": {},
   "outputs": [],
   "source": [
    "# Create a set of random lat and lng combinations\n",
    "lats = np.random.uniform(low=-90.000, high=90.000, size=1500)\n",
    "lngs = np.random.uniform(low=-180.000, high=180.000, size=1500)\n",
    "lat_lngs = zip(lats, lngs)"
   ]
  },
  {
   "cell_type": "code",
   "execution_count": 6,
   "metadata": {},
   "outputs": [
    {
     "data": {
      "text/plain": [
       "613"
      ]
     },
     "execution_count": 6,
     "metadata": {},
     "output_type": "execute_result"
    }
   ],
   "source": [
    "# Identify nearest city for each lat, lng combination using citipy \n",
    "for lat_lng in lat_lngs:\n",
    "    city = citipy.nearest_city(lat_lng[0], lat_lng[1]).city_name\n",
    "    \n",
    "    # If the city is unique, then add it to a the cities list\n",
    "    if city not in cities:\n",
    "        cities.append(city)\n",
    "\n",
    "# Print the city count to confirm sufficient count\n",
    "len(cities)"
   ]
  },
  {
   "cell_type": "markdown",
   "metadata": {},
   "source": [
    "### Perform API Calls\n",
    "* Perform a weather check on each city using a series of successive API calls.\n",
    "* Include a print log of each city as it'sbeing processed (with the city number and city name).\n"
   ]
  },
  {
   "cell_type": "code",
   "execution_count": 7,
   "metadata": {},
   "outputs": [],
   "source": [
    "url = \"http://api.openweathermap.org/data/2.5/weather?\" \n",
    "\n"
   ]
  },
  {
   "cell_type": "code",
   "execution_count": null,
   "metadata": {},
   "outputs": [
    {
     "name": "stdout",
     "output_type": "stream",
     "text": [
      "Processing record 1 for the city: saint-philippe: http://api.openweathermap.org/data/2.5/weather?appid=your API Key here&q=saint-philippe&units=imperial\n",
      "Processing record 2 for the city: busselton: http://api.openweathermap.org/data/2.5/weather?appid=your API Key here&q=busselton&units=imperial\n",
      "Processing record 3 for the city: bethel: http://api.openweathermap.org/data/2.5/weather?appid=your API Key here&q=bethel&units=imperial\n",
      "Processing record 4 for the city: albany: http://api.openweathermap.org/data/2.5/weather?appid=your API Key here&q=albany&units=imperial\n",
      "Processing record 5 for the city: tasgaon: http://api.openweathermap.org/data/2.5/weather?appid=your API Key here&q=tasgaon&units=imperial\n",
      "Processing record 6 for the city: san jose: http://api.openweathermap.org/data/2.5/weather?appid=your API Key here&q=san jose&units=imperial\n",
      "Processing record 7 for the city: tuktoyaktuk: http://api.openweathermap.org/data/2.5/weather?appid=your API Key here&q=tuktoyaktuk&units=imperial\n",
      "Processing record 8 for the city: hobart: http://api.openweathermap.org/data/2.5/weather?appid=your API Key here&q=hobart&units=imperial\n",
      "Processing record 9 for the city: nantucket: http://api.openweathermap.org/data/2.5/weather?appid=your API Key here&q=nantucket&units=imperial\n",
      "Processing record 10 for the city: nikolskoye: http://api.openweathermap.org/data/2.5/weather?appid=your API Key here&q=nikolskoye&units=imperial\n",
      "Processing record 11 for the city: taolanaro: http://api.openweathermap.org/data/2.5/weather?appid=your API Key here&q=taolanaro&units=imperial\n",
      "Processing record 12 for the city: roebourne: http://api.openweathermap.org/data/2.5/weather?appid=your API Key here&q=roebourne&units=imperial\n",
      "Processing record 13 for the city: yerbabuena: http://api.openweathermap.org/data/2.5/weather?appid=your API Key here&q=yerbabuena&units=imperial\n",
      "Processing record 14 for the city: amderma: http://api.openweathermap.org/data/2.5/weather?appid=your API Key here&q=amderma&units=imperial\n",
      "Processing record 15 for the city: tumannyy: http://api.openweathermap.org/data/2.5/weather?appid=your API Key here&q=tumannyy&units=imperial\n",
      "Processing record 16 for the city: cape town: http://api.openweathermap.org/data/2.5/weather?appid=your API Key here&q=cape town&units=imperial\n",
      "Processing record 17 for the city: bluff: http://api.openweathermap.org/data/2.5/weather?appid=your API Key here&q=bluff&units=imperial\n",
      "Processing record 18 for the city: butaritari: http://api.openweathermap.org/data/2.5/weather?appid=your API Key here&q=butaritari&units=imperial\n",
      "Processing record 19 for the city: east london: http://api.openweathermap.org/data/2.5/weather?appid=your API Key here&q=east london&units=imperial\n",
      "Processing record 20 for the city: pochutla: http://api.openweathermap.org/data/2.5/weather?appid=your API Key here&q=pochutla&units=imperial\n",
      "Processing record 21 for the city: kaitangata: http://api.openweathermap.org/data/2.5/weather?appid=your API Key here&q=kaitangata&units=imperial\n",
      "Processing record 22 for the city: kultuk: http://api.openweathermap.org/data/2.5/weather?appid=your API Key here&q=kultuk&units=imperial\n",
      "Processing record 23 for the city: dikson: http://api.openweathermap.org/data/2.5/weather?appid=your API Key here&q=dikson&units=imperial\n",
      "Processing record 24 for the city: san patricio: http://api.openweathermap.org/data/2.5/weather?appid=your API Key here&q=san patricio&units=imperial\n",
      "Processing record 25 for the city: lilongwe: http://api.openweathermap.org/data/2.5/weather?appid=your API Key here&q=lilongwe&units=imperial\n",
      "Processing record 26 for the city: skole: http://api.openweathermap.org/data/2.5/weather?appid=your API Key here&q=skole&units=imperial\n",
      "Processing record 27 for the city: palmeira: http://api.openweathermap.org/data/2.5/weather?appid=your API Key here&q=palmeira&units=imperial\n",
      "Processing record 28 for the city: kaeo: http://api.openweathermap.org/data/2.5/weather?appid=your API Key here&q=kaeo&units=imperial\n",
      "Processing record 29 for the city: hobyo: http://api.openweathermap.org/data/2.5/weather?appid=your API Key here&q=hobyo&units=imperial\n",
      "Processing record 30 for the city: mataura: http://api.openweathermap.org/data/2.5/weather?appid=your API Key here&q=mataura&units=imperial\n",
      "Processing record 31 for the city: westport: http://api.openweathermap.org/data/2.5/weather?appid=your API Key here&q=westport&units=imperial\n",
      "Processing record 32 for the city: korla: http://api.openweathermap.org/data/2.5/weather?appid=your API Key here&q=korla&units=imperial\n",
      "Processing record 33 for the city: georgetown: http://api.openweathermap.org/data/2.5/weather?appid=your API Key here&q=georgetown&units=imperial\n",
      "Processing record 34 for the city: attawapiskat: http://api.openweathermap.org/data/2.5/weather?appid=your API Key here&q=attawapiskat&units=imperial\n",
      "Processing record 35 for the city: beipiao: http://api.openweathermap.org/data/2.5/weather?appid=your API Key here&q=beipiao&units=imperial\n",
      "Processing record 36 for the city: illoqqortoormiut: http://api.openweathermap.org/data/2.5/weather?appid=your API Key here&q=illoqqortoormiut&units=imperial\n",
      "Processing record 37 for the city: puerto escondido: http://api.openweathermap.org/data/2.5/weather?appid=your API Key here&q=puerto escondido&units=imperial\n",
      "Processing record 38 for the city: vaini: http://api.openweathermap.org/data/2.5/weather?appid=your API Key here&q=vaini&units=imperial\n",
      "Processing record 39 for the city: sept-iles: http://api.openweathermap.org/data/2.5/weather?appid=your API Key here&q=sept-iles&units=imperial\n",
      "Processing record 40 for the city: vaitupu: http://api.openweathermap.org/data/2.5/weather?appid=your API Key here&q=vaitupu&units=imperial\n",
      "Processing record 41 for the city: rikitea: http://api.openweathermap.org/data/2.5/weather?appid=your API Key here&q=rikitea&units=imperial\n",
      "Processing record 42 for the city: sola: http://api.openweathermap.org/data/2.5/weather?appid=your API Key here&q=sola&units=imperial\n",
      "Processing record 43 for the city: mount gambier: http://api.openweathermap.org/data/2.5/weather?appid=your API Key here&q=mount gambier&units=imperial\n",
      "Processing record 44 for the city: sitka: http://api.openweathermap.org/data/2.5/weather?appid=your API Key here&q=sitka&units=imperial\n",
      "Processing record 45 for the city: sergeyevka: http://api.openweathermap.org/data/2.5/weather?appid=your API Key here&q=sergeyevka&units=imperial\n",
      "Processing record 46 for the city: bada: http://api.openweathermap.org/data/2.5/weather?appid=your API Key here&q=bada&units=imperial\n",
      "Processing record 47 for the city: noyabrsk: http://api.openweathermap.org/data/2.5/weather?appid=your API Key here&q=noyabrsk&units=imperial\n",
      "Processing record 48 for the city: kerteh: http://api.openweathermap.org/data/2.5/weather?appid=your API Key here&q=kerteh&units=imperial\n",
      "Processing record 49 for the city: port alfred: http://api.openweathermap.org/data/2.5/weather?appid=your API Key here&q=port alfred&units=imperial\n",
      "Processing record 50 for the city: russkaya polyana: http://api.openweathermap.org/data/2.5/weather?appid=your API Key here&q=russkaya polyana&units=imperial\n",
      "Processing record 51 for the city: tocopilla: http://api.openweathermap.org/data/2.5/weather?appid=your API Key here&q=tocopilla&units=imperial\n",
      "Processing record 52 for the city: macapa: http://api.openweathermap.org/data/2.5/weather?appid=your API Key here&q=macapa&units=imperial\n",
      "Processing record 53 for the city: masty: http://api.openweathermap.org/data/2.5/weather?appid=your API Key here&q=masty&units=imperial\n",
      "Processing record 54 for the city: kropotkin: http://api.openweathermap.org/data/2.5/weather?appid=your API Key here&q=kropotkin&units=imperial\n",
      "Processing record 55 for the city: springbok: http://api.openweathermap.org/data/2.5/weather?appid=your API Key here&q=springbok&units=imperial\n",
      "Processing record 56 for the city: margate: http://api.openweathermap.org/data/2.5/weather?appid=your API Key here&q=margate&units=imperial\n",
      "Processing record 57 for the city: susanville: http://api.openweathermap.org/data/2.5/weather?appid=your API Key here&q=susanville&units=imperial\n",
      "Processing record 58 for the city: taltal: http://api.openweathermap.org/data/2.5/weather?appid=your API Key here&q=taltal&units=imperial\n"
     ]
    },
    {
     "name": "stdout",
     "output_type": "stream",
     "text": [
      "Processing record 59 for the city: raudeberg: http://api.openweathermap.org/data/2.5/weather?appid=your API Key here&q=raudeberg&units=imperial\n",
      "Processing record 60 for the city: avarua: http://api.openweathermap.org/data/2.5/weather?appid=your API Key here&q=avarua&units=imperial\n",
      "Processing record 61 for the city: cayenne: http://api.openweathermap.org/data/2.5/weather?appid=your API Key here&q=cayenne&units=imperial\n",
      "Processing record 62 for the city: punta arenas: http://api.openweathermap.org/data/2.5/weather?appid=your API Key here&q=punta arenas&units=imperial\n",
      "Processing record 63 for the city: ostrovnoy: http://api.openweathermap.org/data/2.5/weather?appid=your API Key here&q=ostrovnoy&units=imperial\n",
      "Processing record 64 for the city: clyde river: http://api.openweathermap.org/data/2.5/weather?appid=your API Key here&q=clyde river&units=imperial\n",
      "Processing record 65 for the city: carnarvon: http://api.openweathermap.org/data/2.5/weather?appid=your API Key here&q=carnarvon&units=imperial\n",
      "Processing record 66 for the city: kimbe: http://api.openweathermap.org/data/2.5/weather?appid=your API Key here&q=kimbe&units=imperial\n",
      "Processing record 67 for the city: hasaki: http://api.openweathermap.org/data/2.5/weather?appid=your API Key here&q=hasaki&units=imperial\n",
      "Processing record 68 for the city: sao jose da coroa grande: http://api.openweathermap.org/data/2.5/weather?appid=your API Key here&q=sao jose da coroa grande&units=imperial\n",
      "Processing record 69 for the city: ushuaia: http://api.openweathermap.org/data/2.5/weather?appid=your API Key here&q=ushuaia&units=imperial\n",
      "Processing record 70 for the city: celestun: http://api.openweathermap.org/data/2.5/weather?appid=your API Key here&q=celestun&units=imperial\n",
      "Processing record 71 for the city: tura: http://api.openweathermap.org/data/2.5/weather?appid=your API Key here&q=tura&units=imperial\n",
      "Processing record 72 for the city: kruisfontein: http://api.openweathermap.org/data/2.5/weather?appid=your API Key here&q=kruisfontein&units=imperial\n",
      "Processing record 73 for the city: kungurtug: http://api.openweathermap.org/data/2.5/weather?appid=your API Key here&q=kungurtug&units=imperial\n",
      "Processing record 74 for the city: belushya guba: http://api.openweathermap.org/data/2.5/weather?appid=your API Key here&q=belushya guba&units=imperial\n",
      "Processing record 75 for the city: marawi: http://api.openweathermap.org/data/2.5/weather?appid=your API Key here&q=marawi&units=imperial\n",
      "Processing record 76 for the city: tsihombe: http://api.openweathermap.org/data/2.5/weather?appid=your API Key here&q=tsihombe&units=imperial\n",
      "Processing record 77 for the city: campos altos: http://api.openweathermap.org/data/2.5/weather?appid=your API Key here&q=campos altos&units=imperial\n",
      "Processing record 78 for the city: kamskoye ustye: http://api.openweathermap.org/data/2.5/weather?appid=your API Key here&q=kamskoye ustye&units=imperial\n",
      "Processing record 79 for the city: yellowknife: http://api.openweathermap.org/data/2.5/weather?appid=your API Key here&q=yellowknife&units=imperial\n",
      "Processing record 80 for the city: lompoc: http://api.openweathermap.org/data/2.5/weather?appid=your API Key here&q=lompoc&units=imperial\n",
      "Processing record 81 for the city: mys shmidta: http://api.openweathermap.org/data/2.5/weather?appid=your API Key here&q=mys shmidta&units=imperial\n",
      "Processing record 82 for the city: ahipara: http://api.openweathermap.org/data/2.5/weather?appid=your API Key here&q=ahipara&units=imperial\n",
      "Processing record 83 for the city: beli manastir: http://api.openweathermap.org/data/2.5/weather?appid=your API Key here&q=beli manastir&units=imperial\n",
      "Processing record 84 for the city: los llanos de aridane: http://api.openweathermap.org/data/2.5/weather?appid=your API Key here&q=los llanos de aridane&units=imperial\n",
      "Processing record 85 for the city: freeport: http://api.openweathermap.org/data/2.5/weather?appid=your API Key here&q=freeport&units=imperial\n",
      "Processing record 86 for the city: qaanaaq: http://api.openweathermap.org/data/2.5/weather?appid=your API Key here&q=qaanaaq&units=imperial\n",
      "Processing record 87 for the city: mehamn: http://api.openweathermap.org/data/2.5/weather?appid=your API Key here&q=mehamn&units=imperial\n",
      "Processing record 88 for the city: sao joao da barra: http://api.openweathermap.org/data/2.5/weather?appid=your API Key here&q=sao joao da barra&units=imperial\n",
      "Processing record 89 for the city: san cristobal: http://api.openweathermap.org/data/2.5/weather?appid=your API Key here&q=san cristobal&units=imperial\n",
      "Processing record 90 for the city: aguimes: http://api.openweathermap.org/data/2.5/weather?appid=your API Key here&q=aguimes&units=imperial\n",
      "Processing record 91 for the city: victoria: http://api.openweathermap.org/data/2.5/weather?appid=your API Key here&q=victoria&units=imperial\n",
      "Processing record 92 for the city: mareeba: http://api.openweathermap.org/data/2.5/weather?appid=your API Key here&q=mareeba&units=imperial\n",
      "Processing record 93 for the city: sirjan: http://api.openweathermap.org/data/2.5/weather?appid=your API Key here&q=sirjan&units=imperial\n",
      "Processing record 94 for the city: katsuura: http://api.openweathermap.org/data/2.5/weather?appid=your API Key here&q=katsuura&units=imperial\n",
      "Processing record 95 for the city: norman wells: http://api.openweathermap.org/data/2.5/weather?appid=your API Key here&q=norman wells&units=imperial\n",
      "Processing record 96 for the city: matagami: http://api.openweathermap.org/data/2.5/weather?appid=your API Key here&q=matagami&units=imperial\n",
      "Processing record 97 for the city: castro: http://api.openweathermap.org/data/2.5/weather?appid=your API Key here&q=castro&units=imperial\n",
      "Processing record 98 for the city: watertown: http://api.openweathermap.org/data/2.5/weather?appid=your API Key here&q=watertown&units=imperial\n",
      "Processing record 99 for the city: new norfolk: http://api.openweathermap.org/data/2.5/weather?appid=your API Key here&q=new norfolk&units=imperial\n",
      "Processing record 100 for the city: sibolga: http://api.openweathermap.org/data/2.5/weather?appid=your API Key here&q=sibolga&units=imperial\n",
      "Processing record 101 for the city: husavik: http://api.openweathermap.org/data/2.5/weather?appid=your API Key here&q=husavik&units=imperial\n",
      "Processing record 102 for the city: arraial do cabo: http://api.openweathermap.org/data/2.5/weather?appid=your API Key here&q=arraial do cabo&units=imperial\n",
      "Processing record 103 for the city: puerto ayora: http://api.openweathermap.org/data/2.5/weather?appid=your API Key here&q=puerto ayora&units=imperial\n",
      "Processing record 104 for the city: prince rupert: http://api.openweathermap.org/data/2.5/weather?appid=your API Key here&q=prince rupert&units=imperial\n",
      "Processing record 105 for the city: babanusah: http://api.openweathermap.org/data/2.5/weather?appid=your API Key here&q=babanusah&units=imperial\n",
      "Processing record 106 for the city: bacalar: http://api.openweathermap.org/data/2.5/weather?appid=your API Key here&q=bacalar&units=imperial\n",
      "Processing record 107 for the city: ozamiz: http://api.openweathermap.org/data/2.5/weather?appid=your API Key here&q=ozamiz&units=imperial\n",
      "Processing record 108 for the city: quatre cocos: http://api.openweathermap.org/data/2.5/weather?appid=your API Key here&q=quatre cocos&units=imperial\n",
      "Processing record 109 for the city: aykhal: http://api.openweathermap.org/data/2.5/weather?appid=your API Key here&q=aykhal&units=imperial\n",
      "Processing record 110 for the city: atuona: http://api.openweathermap.org/data/2.5/weather?appid=your API Key here&q=atuona&units=imperial\n",
      "Processing record 111 for the city: acajutla: http://api.openweathermap.org/data/2.5/weather?appid=your API Key here&q=acajutla&units=imperial\n",
      "Processing record 112 for the city: araouane: http://api.openweathermap.org/data/2.5/weather?appid=your API Key here&q=araouane&units=imperial\n",
      "Processing record 113 for the city: hermanus: http://api.openweathermap.org/data/2.5/weather?appid=your API Key here&q=hermanus&units=imperial\n",
      "Processing record 114 for the city: tapaua: http://api.openweathermap.org/data/2.5/weather?appid=your API Key here&q=tapaua&units=imperial\n",
      "Processing record 115 for the city: dujuma: http://api.openweathermap.org/data/2.5/weather?appid=your API Key here&q=dujuma&units=imperial\n",
      "Processing record 116 for the city: goderich: http://api.openweathermap.org/data/2.5/weather?appid=your API Key here&q=goderich&units=imperial\n"
     ]
    },
    {
     "name": "stdout",
     "output_type": "stream",
     "text": [
      "Processing record 117 for the city: kapaa: http://api.openweathermap.org/data/2.5/weather?appid=your API Key here&q=kapaa&units=imperial\n",
      "Processing record 118 for the city: bengkulu: http://api.openweathermap.org/data/2.5/weather?appid=your API Key here&q=bengkulu&units=imperial\n",
      "Processing record 119 for the city: faanui: http://api.openweathermap.org/data/2.5/weather?appid=your API Key here&q=faanui&units=imperial\n",
      "Processing record 120 for the city: erenhot: http://api.openweathermap.org/data/2.5/weather?appid=your API Key here&q=erenhot&units=imperial\n",
      "Processing record 121 for the city: airai: http://api.openweathermap.org/data/2.5/weather?appid=your API Key here&q=airai&units=imperial\n",
      "Processing record 122 for the city: safita: http://api.openweathermap.org/data/2.5/weather?appid=your API Key here&q=safita&units=imperial\n",
      "Processing record 123 for the city: karratha: http://api.openweathermap.org/data/2.5/weather?appid=your API Key here&q=karratha&units=imperial\n",
      "Processing record 124 for the city: cabo san lucas: http://api.openweathermap.org/data/2.5/weather?appid=your API Key here&q=cabo san lucas&units=imperial\n",
      "Processing record 125 for the city: nanortalik: http://api.openweathermap.org/data/2.5/weather?appid=your API Key here&q=nanortalik&units=imperial\n",
      "Processing record 126 for the city: bandarbeyla: http://api.openweathermap.org/data/2.5/weather?appid=your API Key here&q=bandarbeyla&units=imperial\n",
      "Processing record 127 for the city: saskylakh: http://api.openweathermap.org/data/2.5/weather?appid=your API Key here&q=saskylakh&units=imperial\n",
      "Processing record 128 for the city: vila velha: http://api.openweathermap.org/data/2.5/weather?appid=your API Key here&q=vila velha&units=imperial\n",
      "Processing record 129 for the city: menongue: http://api.openweathermap.org/data/2.5/weather?appid=your API Key here&q=menongue&units=imperial\n",
      "Processing record 130 for the city: jamestown: http://api.openweathermap.org/data/2.5/weather?appid=your API Key here&q=jamestown&units=imperial\n",
      "Processing record 131 for the city: longyearbyen: http://api.openweathermap.org/data/2.5/weather?appid=your API Key here&q=longyearbyen&units=imperial\n",
      "Processing record 132 for the city: bredasdorp: http://api.openweathermap.org/data/2.5/weather?appid=your API Key here&q=bredasdorp&units=imperial\n",
      "Processing record 133 for the city: thompson: http://api.openweathermap.org/data/2.5/weather?appid=your API Key here&q=thompson&units=imperial\n",
      "Processing record 134 for the city: barentsburg: http://api.openweathermap.org/data/2.5/weather?appid=your API Key here&q=barentsburg&units=imperial\n",
      "Processing record 135 for the city: grindavik: http://api.openweathermap.org/data/2.5/weather?appid=your API Key here&q=grindavik&units=imperial\n",
      "Processing record 136 for the city: srednekolymsk: http://api.openweathermap.org/data/2.5/weather?appid=your API Key here&q=srednekolymsk&units=imperial\n",
      "Processing record 137 for the city: port keats: http://api.openweathermap.org/data/2.5/weather?appid=your API Key here&q=port keats&units=imperial\n",
      "Processing record 138 for the city: weilheim: http://api.openweathermap.org/data/2.5/weather?appid=your API Key here&q=weilheim&units=imperial\n",
      "Processing record 139 for the city: thayetmyo: http://api.openweathermap.org/data/2.5/weather?appid=your API Key here&q=thayetmyo&units=imperial\n",
      "Processing record 140 for the city: chuy: http://api.openweathermap.org/data/2.5/weather?appid=your API Key here&q=chuy&units=imperial\n",
      "Processing record 141 for the city: shushtar: http://api.openweathermap.org/data/2.5/weather?appid=your API Key here&q=shushtar&units=imperial\n",
      "Processing record 142 for the city: port elizabeth: http://api.openweathermap.org/data/2.5/weather?appid=your API Key here&q=port elizabeth&units=imperial\n",
      "Processing record 143 for the city: cody: http://api.openweathermap.org/data/2.5/weather?appid=your API Key here&q=cody&units=imperial\n",
      "Processing record 144 for the city: puerto leguizamo: http://api.openweathermap.org/data/2.5/weather?appid=your API Key here&q=puerto leguizamo&units=imperial\n",
      "Processing record 145 for the city: la paz: http://api.openweathermap.org/data/2.5/weather?appid=your API Key here&q=la paz&units=imperial\n",
      "Processing record 146 for the city: boromo: http://api.openweathermap.org/data/2.5/weather?appid=your API Key here&q=boromo&units=imperial\n",
      "Processing record 147 for the city: sao filipe: http://api.openweathermap.org/data/2.5/weather?appid=your API Key here&q=sao filipe&units=imperial\n",
      "Processing record 148 for the city: emirdag: http://api.openweathermap.org/data/2.5/weather?appid=your API Key here&q=emirdag&units=imperial\n",
      "Processing record 149 for the city: divnogorsk: http://api.openweathermap.org/data/2.5/weather?appid=your API Key here&q=divnogorsk&units=imperial\n",
      "Processing record 150 for the city: barrhead: http://api.openweathermap.org/data/2.5/weather?appid=your API Key here&q=barrhead&units=imperial\n",
      "Processing record 151 for the city: pevek: http://api.openweathermap.org/data/2.5/weather?appid=your API Key here&q=pevek&units=imperial\n",
      "Processing record 152 for the city: mount isa: http://api.openweathermap.org/data/2.5/weather?appid=your API Key here&q=mount isa&units=imperial\n",
      "Processing record 153 for the city: hofn: http://api.openweathermap.org/data/2.5/weather?appid=your API Key here&q=hofn&units=imperial\n",
      "Processing record 154 for the city: daru: http://api.openweathermap.org/data/2.5/weather?appid=your API Key here&q=daru&units=imperial\n",
      "Processing record 155 for the city: tuim: http://api.openweathermap.org/data/2.5/weather?appid=your API Key here&q=tuim&units=imperial\n",
      "Processing record 156 for the city: isangel: http://api.openweathermap.org/data/2.5/weather?appid=your API Key here&q=isangel&units=imperial\n",
      "Processing record 157 for the city: viedma: http://api.openweathermap.org/data/2.5/weather?appid=your API Key here&q=viedma&units=imperial\n",
      "Processing record 158 for the city: dunedin: http://api.openweathermap.org/data/2.5/weather?appid=your API Key here&q=dunedin&units=imperial\n",
      "Processing record 159 for the city: port moresby: http://api.openweathermap.org/data/2.5/weather?appid=your API Key here&q=port moresby&units=imperial\n",
      "Processing record 160 for the city: saint-pierre: http://api.openweathermap.org/data/2.5/weather?appid=your API Key here&q=saint-pierre&units=imperial\n",
      "Processing record 161 for the city: severo-kurilsk: http://api.openweathermap.org/data/2.5/weather?appid=your API Key here&q=severo-kurilsk&units=imperial\n",
      "Processing record 162 for the city: coahuayana: http://api.openweathermap.org/data/2.5/weather?appid=your API Key here&q=coahuayana&units=imperial\n",
      "Processing record 163 for the city: pardina: http://api.openweathermap.org/data/2.5/weather?appid=your API Key here&q=pardina&units=imperial\n",
      "Processing record 164 for the city: nishihara: http://api.openweathermap.org/data/2.5/weather?appid=your API Key here&q=nishihara&units=imperial\n",
      "Processing record 165 for the city: broken hill: http://api.openweathermap.org/data/2.5/weather?appid=your API Key here&q=broken hill&units=imperial\n",
      "Processing record 166 for the city: innisfail: http://api.openweathermap.org/data/2.5/weather?appid=your API Key here&q=innisfail&units=imperial\n",
      "Processing record 167 for the city: oranjemund: http://api.openweathermap.org/data/2.5/weather?appid=your API Key here&q=oranjemund&units=imperial\n",
      "Processing record 168 for the city: bambous virieux: http://api.openweathermap.org/data/2.5/weather?appid=your API Key here&q=bambous virieux&units=imperial\n",
      "Processing record 169 for the city: jacksonville: http://api.openweathermap.org/data/2.5/weather?appid=your API Key here&q=jacksonville&units=imperial\n",
      "Processing record 170 for the city: aquidauana: http://api.openweathermap.org/data/2.5/weather?appid=your API Key here&q=aquidauana&units=imperial\n",
      "Processing record 171 for the city: marshall: http://api.openweathermap.org/data/2.5/weather?appid=your API Key here&q=marshall&units=imperial\n",
      "Processing record 172 for the city: kargala: http://api.openweathermap.org/data/2.5/weather?appid=your API Key here&q=kargala&units=imperial\n",
      "Processing record 173 for the city: kavieng: http://api.openweathermap.org/data/2.5/weather?appid=your API Key here&q=kavieng&units=imperial\n"
     ]
    },
    {
     "name": "stdout",
     "output_type": "stream",
     "text": [
      "Processing record 174 for the city: santiago de cao: http://api.openweathermap.org/data/2.5/weather?appid=your API Key here&q=santiago de cao&units=imperial\n",
      "Processing record 175 for the city: tooele: http://api.openweathermap.org/data/2.5/weather?appid=your API Key here&q=tooele&units=imperial\n",
      "Processing record 176 for the city: bathsheba: http://api.openweathermap.org/data/2.5/weather?appid=your API Key here&q=bathsheba&units=imperial\n",
      "Processing record 177 for the city: saint george: http://api.openweathermap.org/data/2.5/weather?appid=your API Key here&q=saint george&units=imperial\n",
      "Processing record 178 for the city: lagoa: http://api.openweathermap.org/data/2.5/weather?appid=your API Key here&q=lagoa&units=imperial\n",
      "Processing record 179 for the city: barrow: http://api.openweathermap.org/data/2.5/weather?appid=your API Key here&q=barrow&units=imperial\n",
      "Processing record 180 for the city: honningsvag: http://api.openweathermap.org/data/2.5/weather?appid=your API Key here&q=honningsvag&units=imperial\n",
      "Processing record 181 for the city: tarko-sale: http://api.openweathermap.org/data/2.5/weather?appid=your API Key here&q=tarko-sale&units=imperial\n",
      "Processing record 182 for the city: vidim: http://api.openweathermap.org/data/2.5/weather?appid=your API Key here&q=vidim&units=imperial\n",
      "Processing record 183 for the city: alyangula: http://api.openweathermap.org/data/2.5/weather?appid=your API Key here&q=alyangula&units=imperial\n",
      "Processing record 184 for the city: cockburn town: http://api.openweathermap.org/data/2.5/weather?appid=your API Key here&q=cockburn town&units=imperial\n",
      "Processing record 185 for the city: the valley: http://api.openweathermap.org/data/2.5/weather?appid=your API Key here&q=the valley&units=imperial\n",
      "Processing record 186 for the city: pangnirtung: http://api.openweathermap.org/data/2.5/weather?appid=your API Key here&q=pangnirtung&units=imperial\n",
      "Processing record 187 for the city: vila: http://api.openweathermap.org/data/2.5/weather?appid=your API Key here&q=vila&units=imperial\n",
      "Processing record 188 for the city: port macquarie: http://api.openweathermap.org/data/2.5/weather?appid=your API Key here&q=port macquarie&units=imperial\n",
      "Processing record 189 for the city: ribeira grande: http://api.openweathermap.org/data/2.5/weather?appid=your API Key here&q=ribeira grande&units=imperial\n",
      "Processing record 190 for the city: yeppoon: http://api.openweathermap.org/data/2.5/weather?appid=your API Key here&q=yeppoon&units=imperial\n",
      "Processing record 191 for the city: torbay: http://api.openweathermap.org/data/2.5/weather?appid=your API Key here&q=torbay&units=imperial\n",
      "Processing record 192 for the city: ranong: http://api.openweathermap.org/data/2.5/weather?appid=your API Key here&q=ranong&units=imperial\n",
      "Processing record 193 for the city: peniche: http://api.openweathermap.org/data/2.5/weather?appid=your API Key here&q=peniche&units=imperial\n",
      "Processing record 194 for the city: jinchang: http://api.openweathermap.org/data/2.5/weather?appid=your API Key here&q=jinchang&units=imperial\n",
      "Processing record 195 for the city: rusape: http://api.openweathermap.org/data/2.5/weather?appid=your API Key here&q=rusape&units=imperial\n",
      "Processing record 196 for the city: emerald: http://api.openweathermap.org/data/2.5/weather?appid=your API Key here&q=emerald&units=imperial\n",
      "Processing record 197 for the city: iqaluit: http://api.openweathermap.org/data/2.5/weather?appid=your API Key here&q=iqaluit&units=imperial\n",
      "Processing record 198 for the city: kodiak: http://api.openweathermap.org/data/2.5/weather?appid=your API Key here&q=kodiak&units=imperial\n",
      "Processing record 199 for the city: bubaque: http://api.openweathermap.org/data/2.5/weather?appid=your API Key here&q=bubaque&units=imperial\n",
      "Processing record 200 for the city: den helder: http://api.openweathermap.org/data/2.5/weather?appid=your API Key here&q=den helder&units=imperial\n",
      "Processing record 201 for the city: hithadhoo: http://api.openweathermap.org/data/2.5/weather?appid=your API Key here&q=hithadhoo&units=imperial\n",
      "Processing record 202 for the city: pitimbu: http://api.openweathermap.org/data/2.5/weather?appid=your API Key here&q=pitimbu&units=imperial\n",
      "Processing record 203 for the city: aquiraz: http://api.openweathermap.org/data/2.5/weather?appid=your API Key here&q=aquiraz&units=imperial\n",
      "Processing record 204 for the city: egvekinot: http://api.openweathermap.org/data/2.5/weather?appid=your API Key here&q=egvekinot&units=imperial\n",
      "Processing record 205 for the city: hauterive: http://api.openweathermap.org/data/2.5/weather?appid=your API Key here&q=hauterive&units=imperial\n",
      "Processing record 206 for the city: ndjole: http://api.openweathermap.org/data/2.5/weather?appid=your API Key here&q=ndjole&units=imperial\n",
      "Processing record 207 for the city: solnechnyy: http://api.openweathermap.org/data/2.5/weather?appid=your API Key here&q=solnechnyy&units=imperial\n",
      "Processing record 208 for the city: dobsice: http://api.openweathermap.org/data/2.5/weather?appid=your API Key here&q=dobsice&units=imperial\n",
      "Processing record 209 for the city: marienburg: http://api.openweathermap.org/data/2.5/weather?appid=your API Key here&q=marienburg&units=imperial\n",
      "Processing record 210 for the city: marystown: http://api.openweathermap.org/data/2.5/weather?appid=your API Key here&q=marystown&units=imperial\n",
      "Processing record 211 for the city: guerrero negro: http://api.openweathermap.org/data/2.5/weather?appid=your API Key here&q=guerrero negro&units=imperial\n",
      "Processing record 212 for the city: isla mujeres: http://api.openweathermap.org/data/2.5/weather?appid=your API Key here&q=isla mujeres&units=imperial\n",
      "Processing record 213 for the city: miri: http://api.openweathermap.org/data/2.5/weather?appid=your API Key here&q=miri&units=imperial\n",
      "Processing record 214 for the city: loken: http://api.openweathermap.org/data/2.5/weather?appid=your API Key here&q=loken&units=imperial\n",
      "Processing record 215 for the city: tholen: http://api.openweathermap.org/data/2.5/weather?appid=your API Key here&q=tholen&units=imperial\n",
      "Processing record 216 for the city: arman: http://api.openweathermap.org/data/2.5/weather?appid=your API Key here&q=arman&units=imperial\n",
      "Processing record 217 for the city: iranshahr: http://api.openweathermap.org/data/2.5/weather?appid=your API Key here&q=iranshahr&units=imperial\n",
      "Processing record 218 for the city: old shinyanga: http://api.openweathermap.org/data/2.5/weather?appid=your API Key here&q=old shinyanga&units=imperial\n",
      "Processing record 219 for the city: upata: http://api.openweathermap.org/data/2.5/weather?appid=your API Key here&q=upata&units=imperial\n",
      "Processing record 220 for the city: caravelas: http://api.openweathermap.org/data/2.5/weather?appid=your API Key here&q=caravelas&units=imperial\n",
      "Processing record 221 for the city: komsomolskiy: http://api.openweathermap.org/data/2.5/weather?appid=your API Key here&q=komsomolskiy&units=imperial\n",
      "Processing record 222 for the city: necochea: http://api.openweathermap.org/data/2.5/weather?appid=your API Key here&q=necochea&units=imperial\n",
      "Processing record 223 for the city: provideniya: http://api.openweathermap.org/data/2.5/weather?appid=your API Key here&q=provideniya&units=imperial\n",
      "Processing record 224 for the city: mandalgovi: http://api.openweathermap.org/data/2.5/weather?appid=your API Key here&q=mandalgovi&units=imperial\n",
      "Processing record 225 for the city: hilo: http://api.openweathermap.org/data/2.5/weather?appid=your API Key here&q=hilo&units=imperial\n",
      "Processing record 226 for the city: neuquen: http://api.openweathermap.org/data/2.5/weather?appid=your API Key here&q=neuquen&units=imperial\n",
      "Processing record 227 for the city: mahajanga: http://api.openweathermap.org/data/2.5/weather?appid=your API Key here&q=mahajanga&units=imperial\n",
      "Processing record 228 for the city: salalah: http://api.openweathermap.org/data/2.5/weather?appid=your API Key here&q=salalah&units=imperial\n",
      "Processing record 229 for the city: tambovka: http://api.openweathermap.org/data/2.5/weather?appid=your API Key here&q=tambovka&units=imperial\n",
      "Processing record 230 for the city: mar del plata: http://api.openweathermap.org/data/2.5/weather?appid=your API Key here&q=mar del plata&units=imperial\n",
      "Processing record 231 for the city: asosa: http://api.openweathermap.org/data/2.5/weather?appid=your API Key here&q=asosa&units=imperial\n"
     ]
    },
    {
     "name": "stdout",
     "output_type": "stream",
     "text": [
      "Processing record 232 for the city: umzimvubu: http://api.openweathermap.org/data/2.5/weather?appid=your API Key here&q=umzimvubu&units=imperial\n",
      "Processing record 233 for the city: labuhan: http://api.openweathermap.org/data/2.5/weather?appid=your API Key here&q=labuhan&units=imperial\n",
      "Processing record 234 for the city: kysyl-syr: http://api.openweathermap.org/data/2.5/weather?appid=your API Key here&q=kysyl-syr&units=imperial\n",
      "Processing record 235 for the city: sabang: http://api.openweathermap.org/data/2.5/weather?appid=your API Key here&q=sabang&units=imperial\n",
      "Processing record 236 for the city: waddan: http://api.openweathermap.org/data/2.5/weather?appid=your API Key here&q=waddan&units=imperial\n",
      "Processing record 237 for the city: chokurdakh: http://api.openweathermap.org/data/2.5/weather?appid=your API Key here&q=chokurdakh&units=imperial\n",
      "Processing record 238 for the city: cherskiy: http://api.openweathermap.org/data/2.5/weather?appid=your API Key here&q=cherskiy&units=imperial\n",
      "Processing record 239 for the city: nouadhibou: http://api.openweathermap.org/data/2.5/weather?appid=your API Key here&q=nouadhibou&units=imperial\n",
      "Processing record 240 for the city: dongsheng: http://api.openweathermap.org/data/2.5/weather?appid=your API Key here&q=dongsheng&units=imperial\n",
      "Processing record 241 for the city: tessalit: http://api.openweathermap.org/data/2.5/weather?appid=your API Key here&q=tessalit&units=imperial\n",
      "Processing record 242 for the city: malpe: http://api.openweathermap.org/data/2.5/weather?appid=your API Key here&q=malpe&units=imperial\n",
      "Processing record 243 for the city: port lincoln: http://api.openweathermap.org/data/2.5/weather?appid=your API Key here&q=port lincoln&units=imperial\n",
      "Processing record 244 for the city: mayo: http://api.openweathermap.org/data/2.5/weather?appid=your API Key here&q=mayo&units=imperial\n",
      "Processing record 245 for the city: kahului: http://api.openweathermap.org/data/2.5/weather?appid=your API Key here&q=kahului&units=imperial\n",
      "Processing record 246 for the city: esperance: http://api.openweathermap.org/data/2.5/weather?appid=your API Key here&q=esperance&units=imperial\n",
      "Processing record 247 for the city: namibe: http://api.openweathermap.org/data/2.5/weather?appid=your API Key here&q=namibe&units=imperial\n",
      "Processing record 248 for the city: buraydah: http://api.openweathermap.org/data/2.5/weather?appid=your API Key here&q=buraydah&units=imperial\n",
      "Processing record 249 for the city: hisar: http://api.openweathermap.org/data/2.5/weather?appid=your API Key here&q=hisar&units=imperial\n",
      "Processing record 250 for the city: ternate: http://api.openweathermap.org/data/2.5/weather?appid=your API Key here&q=ternate&units=imperial\n",
      "Processing record 251 for the city: saint-francois: http://api.openweathermap.org/data/2.5/weather?appid=your API Key here&q=saint-francois&units=imperial\n",
      "Processing record 252 for the city: alice springs: http://api.openweathermap.org/data/2.5/weather?appid=your API Key here&q=alice springs&units=imperial\n",
      "Processing record 253 for the city: valenza: http://api.openweathermap.org/data/2.5/weather?appid=your API Key here&q=valenza&units=imperial\n",
      "Processing record 254 for the city: byron bay: http://api.openweathermap.org/data/2.5/weather?appid=your API Key here&q=byron bay&units=imperial\n",
      "Processing record 255 for the city: zhigansk: http://api.openweathermap.org/data/2.5/weather?appid=your API Key here&q=zhigansk&units=imperial\n",
      "Processing record 256 for the city: codrington: http://api.openweathermap.org/data/2.5/weather?appid=your API Key here&q=codrington&units=imperial\n",
      "Processing record 257 for the city: jardim: http://api.openweathermap.org/data/2.5/weather?appid=your API Key here&q=jardim&units=imperial\n",
      "Processing record 258 for the city: dicabisagan: http://api.openweathermap.org/data/2.5/weather?appid=your API Key here&q=dicabisagan&units=imperial\n",
      "Processing record 259 for the city: port-gentil: http://api.openweathermap.org/data/2.5/weather?appid=your API Key here&q=port-gentil&units=imperial\n",
      "Processing record 260 for the city: umm lajj: http://api.openweathermap.org/data/2.5/weather?appid=your API Key here&q=umm lajj&units=imperial\n",
      "Processing record 261 for the city: miandrivazo: http://api.openweathermap.org/data/2.5/weather?appid=your API Key here&q=miandrivazo&units=imperial\n",
      "Processing record 262 for the city: udachnyy: http://api.openweathermap.org/data/2.5/weather?appid=your API Key here&q=udachnyy&units=imperial\n",
      "Processing record 263 for the city: caronport: http://api.openweathermap.org/data/2.5/weather?appid=your API Key here&q=caronport&units=imperial\n",
      "Processing record 264 for the city: belmonte: http://api.openweathermap.org/data/2.5/weather?appid=your API Key here&q=belmonte&units=imperial\n",
      "Processing record 265 for the city: vestmanna: http://api.openweathermap.org/data/2.5/weather?appid=your API Key here&q=vestmanna&units=imperial\n",
      "Processing record 266 for the city: nouakchott: http://api.openweathermap.org/data/2.5/weather?appid=your API Key here&q=nouakchott&units=imperial\n",
      "Processing record 267 for the city: hays: http://api.openweathermap.org/data/2.5/weather?appid=your API Key here&q=hays&units=imperial\n",
      "Processing record 268 for the city: maluso: http://api.openweathermap.org/data/2.5/weather?appid=your API Key here&q=maluso&units=imperial\n",
      "Processing record 269 for the city: khatanga: http://api.openweathermap.org/data/2.5/weather?appid=your API Key here&q=khatanga&units=imperial\n",
      "Processing record 270 for the city: grants pass: http://api.openweathermap.org/data/2.5/weather?appid=your API Key here&q=grants pass&units=imperial\n",
      "Processing record 271 for the city: walvis bay: http://api.openweathermap.org/data/2.5/weather?appid=your API Key here&q=walvis bay&units=imperial\n",
      "Processing record 272 for the city: fortuna: http://api.openweathermap.org/data/2.5/weather?appid=your API Key here&q=fortuna&units=imperial\n",
      "Processing record 273 for the city: port hawkesbury: http://api.openweathermap.org/data/2.5/weather?appid=your API Key here&q=port hawkesbury&units=imperial\n",
      "Processing record 274 for the city: chermoz: http://api.openweathermap.org/data/2.5/weather?appid=your API Key here&q=chermoz&units=imperial\n",
      "Processing record 275 for the city: jiaocheng: http://api.openweathermap.org/data/2.5/weather?appid=your API Key here&q=jiaocheng&units=imperial\n",
      "Processing record 276 for the city: port hedland: http://api.openweathermap.org/data/2.5/weather?appid=your API Key here&q=port hedland&units=imperial\n",
      "Processing record 277 for the city: upernavik: http://api.openweathermap.org/data/2.5/weather?appid=your API Key here&q=upernavik&units=imperial\n",
      "Processing record 278 for the city: tahta: http://api.openweathermap.org/data/2.5/weather?appid=your API Key here&q=tahta&units=imperial\n",
      "Processing record 279 for the city: karasburg: http://api.openweathermap.org/data/2.5/weather?appid=your API Key here&q=karasburg&units=imperial\n",
      "Processing record 280 for the city: songkhla: http://api.openweathermap.org/data/2.5/weather?appid=your API Key here&q=songkhla&units=imperial\n",
      "Processing record 281 for the city: gamba: http://api.openweathermap.org/data/2.5/weather?appid=your API Key here&q=gamba&units=imperial\n",
      "Processing record 282 for the city: olinda: http://api.openweathermap.org/data/2.5/weather?appid=your API Key here&q=olinda&units=imperial\n",
      "Processing record 283 for the city: ambilobe: http://api.openweathermap.org/data/2.5/weather?appid=your API Key here&q=ambilobe&units=imperial\n",
      "Processing record 284 for the city: thabazimbi: http://api.openweathermap.org/data/2.5/weather?appid=your API Key here&q=thabazimbi&units=imperial\n",
      "Processing record 285 for the city: flinders: http://api.openweathermap.org/data/2.5/weather?appid=your API Key here&q=flinders&units=imperial\n",
      "Processing record 286 for the city: nuoro: http://api.openweathermap.org/data/2.5/weather?appid=your API Key here&q=nuoro&units=imperial\n",
      "Processing record 287 for the city: asau: http://api.openweathermap.org/data/2.5/weather?appid=your API Key here&q=asau&units=imperial\n",
      "Processing record 288 for the city: ust-maya: http://api.openweathermap.org/data/2.5/weather?appid=your API Key here&q=ust-maya&units=imperial\n",
      "Processing record 289 for the city: amapa: http://api.openweathermap.org/data/2.5/weather?appid=your API Key here&q=amapa&units=imperial\n"
     ]
    },
    {
     "name": "stdout",
     "output_type": "stream",
     "text": [
      "Processing record 290 for the city: lavrentiya: http://api.openweathermap.org/data/2.5/weather?appid=your API Key here&q=lavrentiya&units=imperial\n",
      "Processing record 291 for the city: ahar: http://api.openweathermap.org/data/2.5/weather?appid=your API Key here&q=ahar&units=imperial\n",
      "Processing record 292 for the city: timbiqui: http://api.openweathermap.org/data/2.5/weather?appid=your API Key here&q=timbiqui&units=imperial\n",
      "Processing record 293 for the city: souillac: http://api.openweathermap.org/data/2.5/weather?appid=your API Key here&q=souillac&units=imperial\n",
      "Processing record 294 for the city: ninotsminda: http://api.openweathermap.org/data/2.5/weather?appid=your API Key here&q=ninotsminda&units=imperial\n",
      "Processing record 295 for the city: bumba: http://api.openweathermap.org/data/2.5/weather?appid=your API Key here&q=bumba&units=imperial\n",
      "Processing record 296 for the city: rosetta: http://api.openweathermap.org/data/2.5/weather?appid=your API Key here&q=rosetta&units=imperial\n",
      "Processing record 297 for the city: seoul: http://api.openweathermap.org/data/2.5/weather?appid=your API Key here&q=seoul&units=imperial\n",
      "Processing record 298 for the city: teguise: http://api.openweathermap.org/data/2.5/weather?appid=your API Key here&q=teguise&units=imperial\n",
      "Processing record 299 for the city: hamilton: http://api.openweathermap.org/data/2.5/weather?appid=your API Key here&q=hamilton&units=imperial\n",
      "Processing record 300 for the city: kloulklubed: http://api.openweathermap.org/data/2.5/weather?appid=your API Key here&q=kloulklubed&units=imperial\n",
      "Processing record 301 for the city: harindanga: http://api.openweathermap.org/data/2.5/weather?appid=your API Key here&q=harindanga&units=imperial\n",
      "Processing record 302 for the city: richards bay: http://api.openweathermap.org/data/2.5/weather?appid=your API Key here&q=richards bay&units=imperial\n",
      "Processing record 303 for the city: chapada dos guimaraes: http://api.openweathermap.org/data/2.5/weather?appid=your API Key here&q=chapada dos guimaraes&units=imperial\n",
      "Processing record 304 for the city: bara: http://api.openweathermap.org/data/2.5/weather?appid=your API Key here&q=bara&units=imperial\n",
      "Processing record 305 for the city: ngukurr: http://api.openweathermap.org/data/2.5/weather?appid=your API Key here&q=ngukurr&units=imperial\n",
      "Processing record 306 for the city: acapulco: http://api.openweathermap.org/data/2.5/weather?appid=your API Key here&q=acapulco&units=imperial\n",
      "Processing record 307 for the city: rawson: http://api.openweathermap.org/data/2.5/weather?appid=your API Key here&q=rawson&units=imperial\n",
      "Processing record 308 for the city: tasiilaq: http://api.openweathermap.org/data/2.5/weather?appid=your API Key here&q=tasiilaq&units=imperial\n",
      "Processing record 309 for the city: lazaro cardenas: http://api.openweathermap.org/data/2.5/weather?appid=your API Key here&q=lazaro cardenas&units=imperial\n",
      "Processing record 310 for the city: prainha: http://api.openweathermap.org/data/2.5/weather?appid=your API Key here&q=prainha&units=imperial\n",
      "Processing record 311 for the city: bandar-e anzali: http://api.openweathermap.org/data/2.5/weather?appid=your API Key here&q=bandar-e anzali&units=imperial\n",
      "Processing record 312 for the city: harper: http://api.openweathermap.org/data/2.5/weather?appid=your API Key here&q=harper&units=imperial\n",
      "Processing record 313 for the city: louisbourg: http://api.openweathermap.org/data/2.5/weather?appid=your API Key here&q=louisbourg&units=imperial\n",
      "Processing record 314 for the city: samalaeulu: http://api.openweathermap.org/data/2.5/weather?appid=your API Key here&q=samalaeulu&units=imperial\n",
      "Processing record 315 for the city: olafsvik: http://api.openweathermap.org/data/2.5/weather?appid=your API Key here&q=olafsvik&units=imperial\n",
      "Processing record 316 for the city: aklavik: http://api.openweathermap.org/data/2.5/weather?appid=your API Key here&q=aklavik&units=imperial\n",
      "Processing record 317 for the city: dudinka: http://api.openweathermap.org/data/2.5/weather?appid=your API Key here&q=dudinka&units=imperial\n",
      "Processing record 318 for the city: lebu: http://api.openweathermap.org/data/2.5/weather?appid=your API Key here&q=lebu&units=imperial\n",
      "Processing record 319 for the city: turmalina: http://api.openweathermap.org/data/2.5/weather?appid=your API Key here&q=turmalina&units=imperial\n",
      "Processing record 320 for the city: san carlos de bariloche: http://api.openweathermap.org/data/2.5/weather?appid=your API Key here&q=san carlos de bariloche&units=imperial\n",
      "Processing record 321 for the city: bria: http://api.openweathermap.org/data/2.5/weather?appid=your API Key here&q=bria&units=imperial\n",
      "Processing record 322 for the city: dingle: http://api.openweathermap.org/data/2.5/weather?appid=your API Key here&q=dingle&units=imperial\n",
      "Processing record 323 for the city: novyy urgal: http://api.openweathermap.org/data/2.5/weather?appid=your API Key here&q=novyy urgal&units=imperial\n",
      "Processing record 324 for the city: gisborne: http://api.openweathermap.org/data/2.5/weather?appid=your API Key here&q=gisborne&units=imperial\n",
      "Processing record 325 for the city: jiuquan: http://api.openweathermap.org/data/2.5/weather?appid=your API Key here&q=jiuquan&units=imperial\n",
      "Processing record 326 for the city: sundumbili: http://api.openweathermap.org/data/2.5/weather?appid=your API Key here&q=sundumbili&units=imperial\n",
      "Processing record 327 for the city: santa eulalia del rio: http://api.openweathermap.org/data/2.5/weather?appid=your API Key here&q=santa eulalia del rio&units=imperial\n",
      "Processing record 328 for the city: yarovoye: http://api.openweathermap.org/data/2.5/weather?appid=your API Key here&q=yarovoye&units=imperial\n",
      "Processing record 329 for the city: vestmannaeyjar: http://api.openweathermap.org/data/2.5/weather?appid=your API Key here&q=vestmannaeyjar&units=imperial\n",
      "Processing record 330 for the city: nguiu: http://api.openweathermap.org/data/2.5/weather?appid=your API Key here&q=nguiu&units=imperial\n",
      "Processing record 331 for the city: staunton: http://api.openweathermap.org/data/2.5/weather?appid=your API Key here&q=staunton&units=imperial\n",
      "Processing record 332 for the city: ekibastuz: http://api.openweathermap.org/data/2.5/weather?appid=your API Key here&q=ekibastuz&units=imperial\n",
      "Processing record 333 for the city: yulara: http://api.openweathermap.org/data/2.5/weather?appid=your API Key here&q=yulara&units=imperial\n",
      "Processing record 334 for the city: dzilam gonzalez: http://api.openweathermap.org/data/2.5/weather?appid=your API Key here&q=dzilam gonzalez&units=imperial\n",
      "Processing record 335 for the city: mendahara: http://api.openweathermap.org/data/2.5/weather?appid=your API Key here&q=mendahara&units=imperial\n",
      "Processing record 336 for the city: launceston: http://api.openweathermap.org/data/2.5/weather?appid=your API Key here&q=launceston&units=imperial\n",
      "Processing record 337 for the city: forio: http://api.openweathermap.org/data/2.5/weather?appid=your API Key here&q=forio&units=imperial\n",
      "Processing record 338 for the city: uruguaiana: http://api.openweathermap.org/data/2.5/weather?appid=your API Key here&q=uruguaiana&units=imperial\n",
      "Processing record 339 for the city: tiksi: http://api.openweathermap.org/data/2.5/weather?appid=your API Key here&q=tiksi&units=imperial\n",
      "Processing record 340 for the city: tombouctou: http://api.openweathermap.org/data/2.5/weather?appid=your API Key here&q=tombouctou&units=imperial\n",
      "Processing record 341 for the city: zlitan: http://api.openweathermap.org/data/2.5/weather?appid=your API Key here&q=zlitan&units=imperial\n",
      "Processing record 342 for the city: kemijarvi: http://api.openweathermap.org/data/2.5/weather?appid=your API Key here&q=kemijarvi&units=imperial\n",
      "Processing record 343 for the city: tatawin: http://api.openweathermap.org/data/2.5/weather?appid=your API Key here&q=tatawin&units=imperial\n",
      "Processing record 344 for the city: erzincan: http://api.openweathermap.org/data/2.5/weather?appid=your API Key here&q=erzincan&units=imperial\n",
      "Processing record 345 for the city: geraldton: http://api.openweathermap.org/data/2.5/weather?appid=your API Key here&q=geraldton&units=imperial\n",
      "Processing record 346 for the city: formosa: http://api.openweathermap.org/data/2.5/weather?appid=your API Key here&q=formosa&units=imperial\n",
      "Processing record 347 for the city: tommot: http://api.openweathermap.org/data/2.5/weather?appid=your API Key here&q=tommot&units=imperial\n"
     ]
    },
    {
     "name": "stdout",
     "output_type": "stream",
     "text": [
      "Processing record 348 for the city: mitsamiouli: http://api.openweathermap.org/data/2.5/weather?appid=your API Key here&q=mitsamiouli&units=imperial\n",
      "Processing record 349 for the city: griffith: http://api.openweathermap.org/data/2.5/weather?appid=your API Key here&q=griffith&units=imperial\n",
      "Processing record 350 for the city: killybegs: http://api.openweathermap.org/data/2.5/weather?appid=your API Key here&q=killybegs&units=imperial\n",
      "Processing record 351 for the city: grootfontein: http://api.openweathermap.org/data/2.5/weather?appid=your API Key here&q=grootfontein&units=imperial\n",
      "Processing record 352 for the city: krotoszyn: http://api.openweathermap.org/data/2.5/weather?appid=your API Key here&q=krotoszyn&units=imperial\n",
      "Processing record 353 for the city: narsaq: http://api.openweathermap.org/data/2.5/weather?appid=your API Key here&q=narsaq&units=imperial\n",
      "Processing record 354 for the city: nome: http://api.openweathermap.org/data/2.5/weather?appid=your API Key here&q=nome&units=imperial\n",
      "Processing record 355 for the city: cidreira: http://api.openweathermap.org/data/2.5/weather?appid=your API Key here&q=cidreira&units=imperial\n",
      "Processing record 356 for the city: caucaia: http://api.openweathermap.org/data/2.5/weather?appid=your API Key here&q=caucaia&units=imperial\n",
      "Processing record 357 for the city: mahebourg: http://api.openweathermap.org/data/2.5/weather?appid=your API Key here&q=mahebourg&units=imperial\n",
      "Processing record 358 for the city: destin: http://api.openweathermap.org/data/2.5/weather?appid=your API Key here&q=destin&units=imperial\n",
      "Processing record 359 for the city: qui nhon: http://api.openweathermap.org/data/2.5/weather?appid=your API Key here&q=qui nhon&units=imperial\n",
      "Processing record 360 for the city: kollam: http://api.openweathermap.org/data/2.5/weather?appid=your API Key here&q=kollam&units=imperial\n",
      "Processing record 361 for the city: kuching: http://api.openweathermap.org/data/2.5/weather?appid=your API Key here&q=kuching&units=imperial\n",
      "Processing record 362 for the city: kiama: http://api.openweathermap.org/data/2.5/weather?appid=your API Key here&q=kiama&units=imperial\n",
      "Processing record 363 for the city: sentyabrskiy: http://api.openweathermap.org/data/2.5/weather?appid=your API Key here&q=sentyabrskiy&units=imperial\n",
      "Processing record 364 for the city: jhang: http://api.openweathermap.org/data/2.5/weather?appid=your API Key here&q=jhang&units=imperial\n",
      "Processing record 365 for the city: todos santos: http://api.openweathermap.org/data/2.5/weather?appid=your API Key here&q=todos santos&units=imperial\n",
      "Processing record 366 for the city: san quintin: http://api.openweathermap.org/data/2.5/weather?appid=your API Key here&q=san quintin&units=imperial\n",
      "Processing record 367 for the city: teneguiban: http://api.openweathermap.org/data/2.5/weather?appid=your API Key here&q=teneguiban&units=imperial\n",
      "Processing record 368 for the city: evensk: http://api.openweathermap.org/data/2.5/weather?appid=your API Key here&q=evensk&units=imperial\n",
      "Processing record 369 for the city: naze: http://api.openweathermap.org/data/2.5/weather?appid=your API Key here&q=naze&units=imperial\n",
      "Processing record 370 for the city: uyuni: http://api.openweathermap.org/data/2.5/weather?appid=your API Key here&q=uyuni&units=imperial\n",
      "Processing record 371 for the city: kerch: http://api.openweathermap.org/data/2.5/weather?appid=your API Key here&q=kerch&units=imperial\n",
      "Processing record 372 for the city: lasa: http://api.openweathermap.org/data/2.5/weather?appid=your API Key here&q=lasa&units=imperial\n",
      "Processing record 373 for the city: kirakira: http://api.openweathermap.org/data/2.5/weather?appid=your API Key here&q=kirakira&units=imperial\n",
      "Processing record 374 for the city: svetlyy: http://api.openweathermap.org/data/2.5/weather?appid=your API Key here&q=svetlyy&units=imperial\n",
      "Processing record 375 for the city: taoudenni: http://api.openweathermap.org/data/2.5/weather?appid=your API Key here&q=taoudenni&units=imperial\n",
      "Processing record 376 for the city: patrasaer: http://api.openweathermap.org/data/2.5/weather?appid=your API Key here&q=patrasaer&units=imperial\n",
      "Processing record 377 for the city: saleaula: http://api.openweathermap.org/data/2.5/weather?appid=your API Key here&q=saleaula&units=imperial\n",
      "Processing record 378 for the city: ust-tsilma: http://api.openweathermap.org/data/2.5/weather?appid=your API Key here&q=ust-tsilma&units=imperial\n",
      "Processing record 379 for the city: bonavista: http://api.openweathermap.org/data/2.5/weather?appid=your API Key here&q=bonavista&units=imperial\n",
      "Processing record 380 for the city: zlatoustovsk: http://api.openweathermap.org/data/2.5/weather?appid=your API Key here&q=zlatoustovsk&units=imperial\n",
      "Processing record 381 for the city: skjervoy: http://api.openweathermap.org/data/2.5/weather?appid=your API Key here&q=skjervoy&units=imperial\n",
      "Processing record 382 for the city: rybnaya sloboda: http://api.openweathermap.org/data/2.5/weather?appid=your API Key here&q=rybnaya sloboda&units=imperial\n",
      "Processing record 383 for the city: port hardy: http://api.openweathermap.org/data/2.5/weather?appid=your API Key here&q=port hardy&units=imperial\n",
      "Processing record 384 for the city: xiaolingwei: http://api.openweathermap.org/data/2.5/weather?appid=your API Key here&q=xiaolingwei&units=imperial\n",
      "Processing record 385 for the city: zhangye: http://api.openweathermap.org/data/2.5/weather?appid=your API Key here&q=zhangye&units=imperial\n",
      "Processing record 386 for the city: yumen: http://api.openweathermap.org/data/2.5/weather?appid=your API Key here&q=yumen&units=imperial\n",
      "Processing record 387 for the city: eyl: http://api.openweathermap.org/data/2.5/weather?appid=your API Key here&q=eyl&units=imperial\n",
      "Processing record 388 for the city: shirokiy: http://api.openweathermap.org/data/2.5/weather?appid=your API Key here&q=shirokiy&units=imperial\n",
      "Processing record 389 for the city: alotau: http://api.openweathermap.org/data/2.5/weather?appid=your API Key here&q=alotau&units=imperial\n",
      "Processing record 390 for the city: kasungu: http://api.openweathermap.org/data/2.5/weather?appid=your API Key here&q=kasungu&units=imperial\n",
      "Processing record 391 for the city: nguruka: http://api.openweathermap.org/data/2.5/weather?appid=your API Key here&q=nguruka&units=imperial\n",
      "Processing record 392 for the city: kenai: http://api.openweathermap.org/data/2.5/weather?appid=your API Key here&q=kenai&units=imperial\n",
      "Processing record 393 for the city: el alto: http://api.openweathermap.org/data/2.5/weather?appid=your API Key here&q=el alto&units=imperial\n",
      "Processing record 394 for the city: wagar: http://api.openweathermap.org/data/2.5/weather?appid=your API Key here&q=wagar&units=imperial\n",
      "Processing record 395 for the city: tautira: http://api.openweathermap.org/data/2.5/weather?appid=your API Key here&q=tautira&units=imperial\n",
      "Processing record 396 for the city: berlevag: http://api.openweathermap.org/data/2.5/weather?appid=your API Key here&q=berlevag&units=imperial\n",
      "Processing record 397 for the city: sorland: http://api.openweathermap.org/data/2.5/weather?appid=your API Key here&q=sorland&units=imperial\n",
      "Processing record 398 for the city: ilulissat: http://api.openweathermap.org/data/2.5/weather?appid=your API Key here&q=ilulissat&units=imperial\n",
      "Processing record 399 for the city: manama: http://api.openweathermap.org/data/2.5/weather?appid=your API Key here&q=manama&units=imperial\n",
      "Processing record 400 for the city: adrar: http://api.openweathermap.org/data/2.5/weather?appid=your API Key here&q=adrar&units=imperial\n",
      "Processing record 401 for the city: hervey bay: http://api.openweathermap.org/data/2.5/weather?appid=your API Key here&q=hervey bay&units=imperial\n",
      "Processing record 402 for the city: maple creek: http://api.openweathermap.org/data/2.5/weather?appid=your API Key here&q=maple creek&units=imperial\n",
      "Processing record 403 for the city: talnakh: http://api.openweathermap.org/data/2.5/weather?appid=your API Key here&q=talnakh&units=imperial\n",
      "Processing record 404 for the city: alugan: http://api.openweathermap.org/data/2.5/weather?appid=your API Key here&q=alugan&units=imperial\n",
      "Processing record 405 for the city: barrington: http://api.openweathermap.org/data/2.5/weather?appid=your API Key here&q=barrington&units=imperial\n",
      "Processing record 406 for the city: trinidad: http://api.openweathermap.org/data/2.5/weather?appid=your API Key here&q=trinidad&units=imperial\n"
     ]
    },
    {
     "name": "stdout",
     "output_type": "stream",
     "text": [
      "Processing record 407 for the city: xinpu: http://api.openweathermap.org/data/2.5/weather?appid=your API Key here&q=xinpu&units=imperial\n",
      "Processing record 408 for the city: waingapu: http://api.openweathermap.org/data/2.5/weather?appid=your API Key here&q=waingapu&units=imperial\n",
      "Processing record 409 for the city: arauco: http://api.openweathermap.org/data/2.5/weather?appid=your API Key here&q=arauco&units=imperial\n",
      "Processing record 410 for the city: moron: http://api.openweathermap.org/data/2.5/weather?appid=your API Key here&q=moron&units=imperial\n",
      "Processing record 411 for the city: obo: http://api.openweathermap.org/data/2.5/weather?appid=your API Key here&q=obo&units=imperial\n",
      "Processing record 412 for the city: keetmanshoop: http://api.openweathermap.org/data/2.5/weather?appid=your API Key here&q=keetmanshoop&units=imperial\n",
      "Processing record 413 for the city: savannah bight: http://api.openweathermap.org/data/2.5/weather?appid=your API Key here&q=savannah bight&units=imperial\n",
      "Processing record 414 for the city: villacarrillo: http://api.openweathermap.org/data/2.5/weather?appid=your API Key here&q=villacarrillo&units=imperial\n",
      "Processing record 415 for the city: longhua: http://api.openweathermap.org/data/2.5/weather?appid=your API Key here&q=longhua&units=imperial\n",
      "Processing record 416 for the city: jiwani: http://api.openweathermap.org/data/2.5/weather?appid=your API Key here&q=jiwani&units=imperial\n",
      "Processing record 417 for the city: neyshabur: http://api.openweathermap.org/data/2.5/weather?appid=your API Key here&q=neyshabur&units=imperial\n",
      "Processing record 418 for the city: tigil: http://api.openweathermap.org/data/2.5/weather?appid=your API Key here&q=tigil&units=imperial\n",
      "Processing record 419 for the city: kutum: http://api.openweathermap.org/data/2.5/weather?appid=your API Key here&q=kutum&units=imperial\n",
      "Processing record 420 for the city: trogir: http://api.openweathermap.org/data/2.5/weather?appid=your API Key here&q=trogir&units=imperial\n",
      "Processing record 421 for the city: celano: http://api.openweathermap.org/data/2.5/weather?appid=your API Key here&q=celano&units=imperial\n",
      "Processing record 422 for the city: chatrapur: http://api.openweathermap.org/data/2.5/weather?appid=your API Key here&q=chatrapur&units=imperial\n",
      "Processing record 423 for the city: chapais: http://api.openweathermap.org/data/2.5/weather?appid=your API Key here&q=chapais&units=imperial\n",
      "Processing record 424 for the city: mao: http://api.openweathermap.org/data/2.5/weather?appid=your API Key here&q=mao&units=imperial\n",
      "Processing record 425 for the city: valparaiso: http://api.openweathermap.org/data/2.5/weather?appid=your API Key here&q=valparaiso&units=imperial\n",
      "Processing record 426 for the city: rungata: http://api.openweathermap.org/data/2.5/weather?appid=your API Key here&q=rungata&units=imperial\n",
      "Processing record 427 for the city: tilichiki: http://api.openweathermap.org/data/2.5/weather?appid=your API Key here&q=tilichiki&units=imperial\n",
      "Processing record 428 for the city: paciran: http://api.openweathermap.org/data/2.5/weather?appid=your API Key here&q=paciran&units=imperial\n",
      "Processing record 429 for the city: henties bay: http://api.openweathermap.org/data/2.5/weather?appid=your API Key here&q=henties bay&units=imperial\n",
      "Processing record 430 for the city: atar: http://api.openweathermap.org/data/2.5/weather?appid=your API Key here&q=atar&units=imperial\n",
      "Processing record 431 for the city: lahaina: http://api.openweathermap.org/data/2.5/weather?appid=your API Key here&q=lahaina&units=imperial\n",
      "Processing record 432 for the city: jiaojiang: http://api.openweathermap.org/data/2.5/weather?appid=your API Key here&q=jiaojiang&units=imperial\n",
      "Processing record 433 for the city: lodja: http://api.openweathermap.org/data/2.5/weather?appid=your API Key here&q=lodja&units=imperial\n",
      "Processing record 434 for the city: north bend: http://api.openweathermap.org/data/2.5/weather?appid=your API Key here&q=north bend&units=imperial\n",
      "Processing record 435 for the city: kedougou: http://api.openweathermap.org/data/2.5/weather?appid=your API Key here&q=kedougou&units=imperial\n",
      "Processing record 436 for the city: jujuy: http://api.openweathermap.org/data/2.5/weather?appid=your API Key here&q=jujuy&units=imperial\n",
      "Processing record 437 for the city: anadyr: http://api.openweathermap.org/data/2.5/weather?appid=your API Key here&q=anadyr&units=imperial\n",
      "Processing record 438 for the city: tarudant: http://api.openweathermap.org/data/2.5/weather?appid=your API Key here&q=tarudant&units=imperial\n",
      "Processing record 439 for the city: porto walter: http://api.openweathermap.org/data/2.5/weather?appid=your API Key here&q=porto walter&units=imperial\n",
      "Processing record 440 for the city: jamkhed: http://api.openweathermap.org/data/2.5/weather?appid=your API Key here&q=jamkhed&units=imperial\n",
      "Processing record 441 for the city: palabuhanratu: http://api.openweathermap.org/data/2.5/weather?appid=your API Key here&q=palabuhanratu&units=imperial\n",
      "Processing record 442 for the city: kieta: http://api.openweathermap.org/data/2.5/weather?appid=your API Key here&q=kieta&units=imperial\n",
      "Processing record 443 for the city: buenaventura: http://api.openweathermap.org/data/2.5/weather?appid=your API Key here&q=buenaventura&units=imperial\n",
      "Processing record 444 for the city: tarhunah: http://api.openweathermap.org/data/2.5/weather?appid=your API Key here&q=tarhunah&units=imperial\n",
      "Processing record 445 for the city: vostok: http://api.openweathermap.org/data/2.5/weather?appid=your API Key here&q=vostok&units=imperial\n",
      "Processing record 446 for the city: pemba: http://api.openweathermap.org/data/2.5/weather?appid=your API Key here&q=pemba&units=imperial\n",
      "Processing record 447 for the city: abu samrah: http://api.openweathermap.org/data/2.5/weather?appid=your API Key here&q=abu samrah&units=imperial\n",
      "Processing record 448 for the city: parrita: http://api.openweathermap.org/data/2.5/weather?appid=your API Key here&q=parrita&units=imperial\n",
      "Processing record 449 for the city: yichun: http://api.openweathermap.org/data/2.5/weather?appid=your API Key here&q=yichun&units=imperial\n",
      "Processing record 450 for the city: ascension: http://api.openweathermap.org/data/2.5/weather?appid=your API Key here&q=ascension&units=imperial\n",
      "Processing record 451 for the city: leningradskiy: http://api.openweathermap.org/data/2.5/weather?appid=your API Key here&q=leningradskiy&units=imperial\n",
      "Processing record 452 for the city: wulanhaote: http://api.openweathermap.org/data/2.5/weather?appid=your API Key here&q=wulanhaote&units=imperial\n",
      "Processing record 453 for the city: cumaribo: http://api.openweathermap.org/data/2.5/weather?appid=your API Key here&q=cumaribo&units=imperial\n",
      "Processing record 454 for the city: dombarovskiy: http://api.openweathermap.org/data/2.5/weather?appid=your API Key here&q=dombarovskiy&units=imperial\n",
      "Processing record 455 for the city: pakwach: http://api.openweathermap.org/data/2.5/weather?appid=your API Key here&q=pakwach&units=imperial\n",
      "Processing record 456 for the city: sioux lookout: http://api.openweathermap.org/data/2.5/weather?appid=your API Key here&q=sioux lookout&units=imperial\n",
      "Processing record 457 for the city: lakselv: http://api.openweathermap.org/data/2.5/weather?appid=your API Key here&q=lakselv&units=imperial\n",
      "Processing record 458 for the city: maraa: http://api.openweathermap.org/data/2.5/weather?appid=your API Key here&q=maraa&units=imperial\n",
      "Processing record 459 for the city: lady frere: http://api.openweathermap.org/data/2.5/weather?appid=your API Key here&q=lady frere&units=imperial\n",
      "Processing record 460 for the city: safwah: http://api.openweathermap.org/data/2.5/weather?appid=your API Key here&q=safwah&units=imperial\n",
      "Processing record 461 for the city: bolungarvik: http://api.openweathermap.org/data/2.5/weather?appid=your API Key here&q=bolungarvik&units=imperial\n",
      "Processing record 462 for the city: saldanha: http://api.openweathermap.org/data/2.5/weather?appid=your API Key here&q=saldanha&units=imperial\n",
      "Processing record 463 for the city: aksu: http://api.openweathermap.org/data/2.5/weather?appid=your API Key here&q=aksu&units=imperial\n",
      "Processing record 464 for the city: nerchinskiy zavod: http://api.openweathermap.org/data/2.5/weather?appid=your API Key here&q=nerchinskiy zavod&units=imperial\n",
      "Processing record 465 for the city: havoysund: http://api.openweathermap.org/data/2.5/weather?appid=your API Key here&q=havoysund&units=imperial\n"
     ]
    },
    {
     "name": "stdout",
     "output_type": "stream",
     "text": [
      "Processing record 466 for the city: sidi ali: http://api.openweathermap.org/data/2.5/weather?appid=your API Key here&q=sidi ali&units=imperial\n",
      "Processing record 467 for the city: avera: http://api.openweathermap.org/data/2.5/weather?appid=your API Key here&q=avera&units=imperial\n",
      "Processing record 468 for the city: nuevo progreso: http://api.openweathermap.org/data/2.5/weather?appid=your API Key here&q=nuevo progreso&units=imperial\n"
     ]
    }
   ],
   "source": [
    "#Create Empty Lists for data\n",
    "weather_data = []\n",
    "searchCnt = 0\n",
    "\n",
    "#Call on API and retrive data while skipping cities with missing data\n",
    "for city in cities:\n",
    "    searchCnt += 1\n",
    "    try:\n",
    "        # Build query URL\n",
    "        query_url = url+\"appid=\"+api_key+\"&q=\"+ city +\"&units=imperial\"\n",
    "        print(f\"Processing record {searchCnt} for the city: {city}: {query_url}\") \n",
    "        # Get weather data\n",
    "        weather_response = req.get(query_url).json()\n",
    "        weather_response['coord']\n",
    "        weather_data.append(weather_response)\n",
    "    except:\n",
    "        pass"
   ]
  },
  {
   "cell_type": "code",
   "execution_count": null,
   "metadata": {},
   "outputs": [],
   "source": [
    "# Extract interesting data from responses\n",
    "lat_data = [data.get(\"coord\").get(\"lat\") for data in weather_data]\n",
    "lon_data = [data.get(\"coord\").get(\"lon\") for data in weather_data]\n",
    "temp_data = [data.get(\"main\").get(\"temp\") for data in weather_data]\n",
    "hum_data = [data.get(\"main\").get(\"humidity\") for data in weather_data]\n",
    "cld_data = [data.get(\"clouds\").get(\"all\") for data in weather_data]\n",
    "wind_data = [data.get(\"wind\").get(\"speed\") for data in weather_data] \n",
    "city_name = [data.get(\"name\") for data in weather_data]\n",
    "\n",
    "\n",
    "\n",
    "\n"
   ]
  },
  {
   "cell_type": "markdown",
   "metadata": {},
   "source": [
    "### Convert Raw Data to DataFrame\n",
    "* Export the city data into a .csv.\n",
    "* Display the DataFrame"
   ]
  },
  {
   "cell_type": "code",
   "execution_count": null,
   "metadata": {},
   "outputs": [],
   "source": [
    "temp_df = pd.DataFrame({\"city\":city_name,\n",
    "                        \"lattitude\": lat_data,\n",
    "                        \"longitude\":lon_data, \n",
    "                        \"temperature\": temp_data,\n",
    "                        \"humidity\":hum_data, \n",
    "                        \"clouds\":cld_data,\n",
    "                        \"wind\":wind_data})\n",
    "\n",
    "\n",
    "\n"
   ]
  },
  {
   "cell_type": "code",
   "execution_count": 11,
   "metadata": {},
   "outputs": [],
   "source": [
    "temp_df.to_csv(\"Complete_Weather_Data.csv\")\n",
    "\n",
    "\n",
    "\n"
   ]
  },
  {
   "cell_type": "markdown",
   "metadata": {},
   "source": [
    "# Plotting the Data\n",
    "* Use proper labeling of the plots using plot titles (including date of analysis) and axes labels.\n",
    "* Save the plotted figures as .pngs."
   ]
  },
  {
   "cell_type": "markdown",
   "metadata": {},
   "source": [
    "#### Latitude vs. Temperature Plot"
   ]
  },
  {
   "cell_type": "code",
   "execution_count": 13,
   "metadata": {},
   "outputs": [
    {
     "data": {
      "image/png": "[encoded data removed]",
      "text/plain": [
       "<Figure size 432x288 with 1 Axes>"
      ]
     },
     "metadata": {
      "needs_background": "light"
     },
     "output_type": "display_data"
    }
   ],
   "source": [
    "plt.scatter(temp_df[\"lattitude\"], temp_df[\"temperature\"], marker=\"o\")\n",
    "\n",
    "# Incorporate the other graph properties\n",
    "plt.title(\"City Latitude vs. Temperature (F)\")\n",
    "plt.ylabel(\"Temperature (F)\")\n",
    "plt.xlabel(\"Latitutde\")\n",
    "plt.grid(True)\n",
    "plt.xlim(-90,90)\n",
    "\n",
    "# Save the figure\n",
    "plt.savefig(\"Data_Images/Latitude_vs_Temp.png\")\n",
    "\n",
    "# Show plot\n",
    "plt.show()"
   ]
  },
  {
   "cell_type": "markdown",
   "metadata": {},
   "source": [
    "#### Latitude vs. Humidity Plot"
   ]
  },
  {
   "cell_type": "code",
   "execution_count": 14,
   "metadata": {},
   "outputs": [
    {
     "data": {
      "image/png": "[encoded data removed]",
      "text/plain": [
       "<Figure size 432x288 with 1 Axes>"
      ]
     },
     "metadata": {
      "needs_background": "light"
     },
     "output_type": "display_data"
    }
   ],
   "source": [
    "plt.scatter(temp_df[\"lattitude\"], temp_df[\"humidity\"], marker=\"o\")\n",
    "\n",
    "# Incorporate the other graph properties\n",
    "plt.title(\"City Latitude vs. Humidity (F)\")\n",
    "plt.ylabel(\"Humidity (g/m3)\")\n",
    "plt.xlabel(\"Latitutde\")\n",
    "plt.grid(True)\n",
    "plt.xlim(-90,90)\n",
    "\n",
    "# Save the figure\n",
    "plt.savefig(\"Data_Images/Latitude_vs_Humidity.png\")\n",
    "\n",
    "# Show plot\n",
    "plt.show()"
   ]
  },
  {
   "cell_type": "markdown",
   "metadata": {},
   "source": [
    "#### Latitude vs. Cloudiness Plot"
   ]
  },
  {
   "cell_type": "code",
   "execution_count": 15,
   "metadata": {},
   "outputs": [
    {
     "data": {
      "image/png": "[encoded data removed]",
      "text/plain": [
       "<Figure size 432x288 with 1 Axes>"
      ]
     },
     "metadata": {
      "needs_background": "light"
     },
     "output_type": "display_data"
    }
   ],
   "source": [
    "plt.scatter(temp_df[\"lattitude\"], temp_df[\"clouds\"], marker=\"o\")\n",
    "\n",
    "# Incorporate the other graph properties\n",
    "plt.title(\"City Latitude vs. Cloudines\")\n",
    "plt.ylabel(\"Number of Clouds\")\n",
    "plt.xlabel(\"Latitutde\")\n",
    "plt.grid(True)\n",
    "\n",
    "# Save the figure\n",
    "plt.savefig(\"Data_Images/Latitude_vs_Clouds.png\")\n",
    "\n",
    "# Show plot\n",
    "plt.show()"
   ]
  },
  {
   "cell_type": "markdown",
   "metadata": {},
   "source": [
    "#### Latitude vs. Wind Speed Plot"
   ]
  },
  {
   "cell_type": "code",
   "execution_count": 16,
   "metadata": {},
   "outputs": [
    {
     "data": {
      "image/png": "[encoded data removed]",
      "text/plain": [
       "<Figure size 432x288 with 1 Axes>"
      ]
     },
     "metadata": {
      "needs_background": "light"
     },
     "output_type": "display_data"
    }
   ],
   "source": [
    "plt.scatter(temp_df[\"lattitude\"], temp_df[\"wind\"], marker=\"o\")\n",
    "\n",
    "# Incorporate the other graph properties\n",
    "plt.title(\"City Latitude vs. Windiness\")\n",
    "plt.ylabel(\"Wind Speed\")\n",
    "plt.xlabel(\"Latitutde\")\n",
    "plt.grid(True)\n",
    "\n",
    "# Save the figure\n",
    "plt.savefig(\"Data_Images/Latitude_vs_Wind.png\")\n",
    "\n",
    "# Show plot\n",
    "plt.show()"
   ]
  },
  {
   "cell_type": "code",
   "execution_count": null,
   "metadata": {},
   "outputs": [],
   "source": []
  },
  {
   "cell_type": "code",
   "execution_count": null,
   "metadata": {},
   "outputs": [],
   "source": []
  }
 ],
 "metadata": {
  "anaconda-cloud": {},
  "kernelspec": {
   "display_name": "Python 3",
   "language": "python",
   "name": "python3"
  },
  "language_info": {
   "codemirror_mode": {
    "name": "ipython",
    "version": 3
   },
   "file_extension": ".py",
   "mimetype": "text/x-python",
   "name": "python",
   "nbconvert_exporter": "python",
   "pygments_lexer": "ipython3",
   "version": "3.7.1"
  }
 },
 "nbformat": 4,
 "nbformat_minor": 2
}
